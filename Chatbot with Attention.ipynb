{
 "cells": [
  {
   "cell_type": "code",
   "execution_count": 1,
   "id": "6e434ea6",
   "metadata": {},
   "outputs": [],
   "source": [
    "import numpy as np\n",
    "import matplotlib.pyplot as plt\n",
    "from tensorflow.keras.models import Model\n",
    "from tensorflow.keras.layers import Dense, LSTM, GRU, Embedding, Input\n",
    "from tensorflow.keras.layers import Concatenate, Activation, Dot\n",
    "from tensorflow.keras.layers import Lambda, RepeatVector, Bidirectional\n",
    "from tensorflow.keras.preprocessing.text import Tokenizer\n",
    "from tensorflow.keras.preprocessing.sequence import pad_sequences\n",
    "import tensorflow.keras.backend as K\n",
    "from tensorflow import keras\n",
    "import pathlib"
   ]
  },
  {
   "cell_type": "code",
   "execution_count": 2,
   "id": "fc9e4047",
   "metadata": {},
   "outputs": [],
   "source": [
    "def softmax_over_time(x):\n",
    "    assert(K.ndim(x) > 2) #checks to see if it is higher than 2 dimensions\n",
    "    #exp and over T in dimension N x T x D\n",
    "    # max of all T in each N X D\n",
    "    e = K.exp(x - K.max(x, axis=1, keepdims=True))\n",
    "    \n",
    "    # sum of all T in each N X D\n",
    "    s = K.sum(e, axis=1, keepdims=True)\n",
    "    return e/s"
   ]
  },
  {
   "cell_type": "code",
   "execution_count": 3,
   "id": "827d562f",
   "metadata": {},
   "outputs": [],
   "source": [
    "BATCH_SIZE = 64\n",
    "EPOCHS = 200\n",
    "LATENT_DIM = 256\n",
    "LATENT_DIM_DECODER = 256\n",
    "NUM_SAMPLES = 10000\n",
    "MAX_SEQUENCE_LENGTH = 100\n",
    "MAX_NUM_WORDS = 20000\n",
    "EMBEDDING_DIM = 100"
   ]
  },
  {
   "cell_type": "code",
   "execution_count": 4,
   "id": "0b16909e",
   "metadata": {},
   "outputs": [],
   "source": [
    "text_file = keras.utils.get_file(\n",
    "    fname=\"spa-eng.zip\",\n",
    "    origin=\"http://storage.googleapis.com/download.tensorflow.org/data/spa-eng.zip\",\n",
    "    extract=True,\n",
    ")\n",
    "text_file = pathlib.Path(text_file).parent / \"spa-eng\" / \"spa.txt\""
   ]
  },
  {
   "cell_type": "code",
   "execution_count": 5,
   "id": "72d73f86",
   "metadata": {},
   "outputs": [
    {
     "name": "stdout",
     "output_type": "stream",
     "text": [
      "num samples: 10000\n"
     ]
    }
   ],
   "source": [
    "input_texts = []\n",
    "target_texts = []\n",
    "target_texts_inputs = []\n",
    "t = 0\n",
    "for line in open(text_file, encoding='utf-8'):\n",
    "    t+=1\n",
    "    if t > NUM_SAMPLES:\n",
    "        break\n",
    "        \n",
    "    if '\\t' not in line:#if input and target are not seperated\n",
    "        continue\n",
    "        \n",
    "    #split    \n",
    "    input_text, translation = line.split(\"\\t\")\n",
    "    \n",
    "    target_text = translation.replace(\"\\n\", \"\") + ' <eos>'\n",
    "    target_text_input ='<sos> '+ translation.replace(\"\\n\", \"\")\n",
    "    \n",
    "    input_texts.append(input_text)\n",
    "    target_texts.append(target_text)\n",
    "    target_texts_inputs.append(target_text_input)\n",
    "print('num samples:', len(input_texts))"
   ]
  },
  {
   "cell_type": "markdown",
   "id": "cc6c2f1c",
   "metadata": {},
   "source": [
    "# ENCODER Inputs Transformation"
   ]
  },
  {
   "cell_type": "code",
   "execution_count": 6,
   "id": "5b39f8f0",
   "metadata": {},
   "outputs": [],
   "source": [
    "#input text of the encoder\n",
    "tokenizer_inputs = Tokenizer(num_words=MAX_NUM_WORDS)\n",
    "tokenizer_inputs.fit_on_texts(input_texts)\n",
    "input_sequences = tokenizer_inputs.texts_to_sequences(input_texts)"
   ]
  },
  {
   "cell_type": "code",
   "execution_count": 7,
   "id": "20e0794b",
   "metadata": {},
   "outputs": [
    {
     "name": "stdout",
     "output_type": "stream",
     "text": [
      "Found 2367 unique input tokens.\n"
     ]
    }
   ],
   "source": [
    "word2idx_inputs = tokenizer_inputs.word_index\n",
    "print(\"Found %s unique input tokens.\" %len(word2idx_inputs))"
   ]
  },
  {
   "cell_type": "code",
   "execution_count": 8,
   "id": "5f67e5c7",
   "metadata": {},
   "outputs": [],
   "source": [
    "max_len_input = max(len(s) for s in input_sequences)"
   ]
  },
  {
   "cell_type": "code",
   "execution_count": 9,
   "id": "3f59f6e9",
   "metadata": {},
   "outputs": [
    {
     "name": "stdout",
     "output_type": "stream",
     "text": [
      "encoder_data.shape:  (10000, 5)\n",
      "encoder_data[0] :  [ 0  0  0  0 15]\n"
     ]
    }
   ],
   "source": [
    "#pad sequences for text in encoder\n",
    "encoder_inputs = pad_sequences(input_sequences, maxlen=max_len_input)\n",
    "print(\"encoder_data.shape: \", encoder_inputs.shape)\n",
    "print(\"encoder_data[0] : \", encoder_inputs[0])"
   ]
  },
  {
   "cell_type": "markdown",
   "id": "30fa91a0",
   "metadata": {},
   "source": [
    "# Decoder Target and Decoder Input Targets\n",
    "# Transformations"
   ]
  },
  {
   "cell_type": "code",
   "execution_count": 10,
   "id": "3f479dab",
   "metadata": {},
   "outputs": [],
   "source": [
    "tokenizer_outputs = Tokenizer(num_words = MAX_NUM_WORDS, filters='')\n",
    "tokenizer_outputs.fit_on_texts(target_texts + target_texts_inputs)\n",
    "#translation for decoder target_texts\n",
    "target_sequences = tokenizer_outputs.texts_to_sequences(target_texts)\n",
    "#translation for decoder input_texts\n",
    "target_sequences_inputs = tokenizer_outputs.texts_to_sequences(target_texts_inputs)"
   ]
  },
  {
   "cell_type": "code",
   "execution_count": 11,
   "id": "17cd9db3",
   "metadata": {},
   "outputs": [
    {
     "name": "stdout",
     "output_type": "stream",
     "text": [
      "Found 6325 unique token ouputs.\n"
     ]
    }
   ],
   "source": [
    "word2idx_outputs = tokenizer_outputs.word_index\n",
    "print(\"Found %s unique token ouputs.\" %len(word2idx_outputs))"
   ]
  },
  {
   "cell_type": "code",
   "execution_count": 12,
   "id": "bb71de75",
   "metadata": {},
   "outputs": [],
   "source": [
    "num_words_output = len(word2idx_outputs) + 1"
   ]
  },
  {
   "cell_type": "code",
   "execution_count": 13,
   "id": "145c9954",
   "metadata": {},
   "outputs": [],
   "source": [
    "max_len_target = max(len(s) for s in target_sequences)"
   ]
  },
  {
   "cell_type": "markdown",
   "id": "2f45b792",
   "metadata": {},
   "source": [
    "# Padding decoder Inputs of translation"
   ]
  },
  {
   "cell_type": "code",
   "execution_count": 14,
   "id": "84bdee2f",
   "metadata": {},
   "outputs": [
    {
     "name": "stdout",
     "output_type": "stream",
     "text": [
      "decoder_data.shape:  (10000, 9)\n",
      "decoder_data[0] :  [   2 1491    0    0    0    0    0    0    0]\n"
     ]
    }
   ],
   "source": [
    "#the decoder input test <SOS> padded which are the target also\n",
    "# this is use for teacher forcing\n",
    "decoder_inputs = pad_sequences(target_sequences_inputs, maxlen=max_len_target,\n",
    "                              padding='post')\n",
    "print(\"decoder_data.shape: \", decoder_inputs.shape)\n",
    "print(\"decoder_data[0] : \", decoder_inputs[0])"
   ]
  },
  {
   "cell_type": "markdown",
   "id": "b6668b45",
   "metadata": {},
   "source": [
    "# Target for Decoder padding"
   ]
  },
  {
   "cell_type": "code",
   "execution_count": 15,
   "id": "ed6bdeed",
   "metadata": {},
   "outputs": [],
   "source": [
    "#the decoder target text ends in <EOS> which are similar to input of decoder\n",
    "# difference is that it ends with <eos> instead of the <sos> which is at start\n",
    "decoder_targets= pad_sequences(target_sequences, maxlen=max_len_target,\n",
    "                              padding='post')"
   ]
  },
  {
   "cell_type": "markdown",
   "id": "0c7692a8",
   "metadata": {},
   "source": [
    "# Pretrained Embedding"
   ]
  },
  {
   "cell_type": "code",
   "execution_count": 16,
   "id": "7d93b255",
   "metadata": {},
   "outputs": [
    {
     "name": "stdout",
     "output_type": "stream",
     "text": [
      "Loading word vectors...\n",
      "Found 400000 word vectors.\n"
     ]
    }
   ],
   "source": [
    "print(\"Loading word vectors...\")\n",
    "word2vec = {}\n",
    "with open(\"glove.6B.%sd.txt\" %EMBEDDING_DIM, encoding=\"utf-8\") as f:\n",
    "    \n",
    "    for line in f:\n",
    "        values = line.split()\n",
    "        word = values[0]\n",
    "        vec = np.asarray(values[1:], dtype='float32')\n",
    "        word2vec[word] = vec\n",
    "\n",
    "print(\"Found %s word vectors.\" %len(word2vec)) #dictonary"
   ]
  },
  {
   "cell_type": "code",
   "execution_count": 17,
   "id": "9e2e1ad9",
   "metadata": {},
   "outputs": [
    {
     "name": "stdout",
     "output_type": "stream",
     "text": [
      "FIlling pre traineed embeddings...\n"
     ]
    }
   ],
   "source": [
    "print(\"FIlling pre traineed embeddings...\")\n",
    "num_words = min(MAX_NUM_WORDS, len(word2idx_inputs)+1)\n",
    "embedding_matrix = np.zeros((num_words,EMBEDDING_DIM))\n",
    "for word, i in word2idx_inputs.items():\n",
    "    if i < MAX_NUM_WORDS:\n",
    "        embedding_vector = word2vec.get(word)\n",
    "        if embedding_vector is not None:\n",
    "            embedding_matrix[i] = embedding_vector"
   ]
  },
  {
   "cell_type": "markdown",
   "id": "35b7d125",
   "metadata": {},
   "source": [
    "# Create Embedding layer with\n",
    "# Pretrained weights"
   ]
  },
  {
   "cell_type": "code",
   "execution_count": 18,
   "id": "a7be416b",
   "metadata": {},
   "outputs": [],
   "source": [
    "embedding_layer = Embedding(\n",
    "    num_words,\n",
    "    EMBEDDING_DIM,\n",
    "    weights=[embedding_matrix],\n",
    "    input_length=max_len_target,\n",
    "    #trainable=True\n",
    ")"
   ]
  },
  {
   "cell_type": "markdown",
   "id": "fbbe3fac",
   "metadata": {},
   "source": [
    "# Encoder Train Model"
   ]
  },
  {
   "cell_type": "code",
   "execution_count": 19,
   "id": "1260d8af",
   "metadata": {},
   "outputs": [],
   "source": [
    "# build the model encoder\n",
    "#input of the english inputs for the encoder\n",
    "encoder_inputs_placeholder = Input(shape=(max_len_input,))\n",
    "\n",
    "#embedding_layer is word2vec pretrained embedding\n",
    "x = embedding_layer(encoder_inputs_placeholder)\n",
    "\n",
    "#LATENT_DIM is the hidden_neurons in the lstm\n",
    "encoder = Bidirectional(LSTM(LATENT_DIM, return_sequences=True, dropout=0.5))\n",
    "#output of 2M, M=LATENT_DIM\n",
    "\n",
    "#grab the output of multiple hidden_states becuase of return_sequence=True\n",
    "encoder_outputs = encoder(x)"
   ]
  },
  {
   "cell_type": "markdown",
   "id": "bb88080c",
   "metadata": {},
   "source": [
    "# Decoder Train Model"
   ]
  },
  {
   "cell_type": "code",
   "execution_count": 20,
   "id": "25195d35",
   "metadata": {},
   "outputs": [],
   "source": [
    "#input of the spanish inputs for the decoder\n",
    "# max_len_target = T\n",
    "decoder_inputs_placeholder = Input(shape=(max_len_target,))\n",
    "\n",
    "#new embedding layer with the dimensionality for spanish embedding\n",
    "#num_words_output = V, Embedding_dim = D represent weight matrix = (V,D)\n",
    "decoder_embedding = Embedding(num_words_output, EMBEDDING_DIM) \n",
    "\n",
    "# output of the embedding is N x T x D\n",
    "# N = number of samples, T=length of sentence, D = neurons in layer\n",
    "decoder_inputs_x = decoder_embedding(decoder_inputs_placeholder)"
   ]
  },
  {
   "cell_type": "markdown",
   "id": "48a0d251",
   "metadata": {},
   "source": [
    "# Attention"
   ]
  },
  {
   "cell_type": "code",
   "execution_count": 21,
   "id": "494efa49",
   "metadata": {},
   "outputs": [],
   "source": [
    "#reusable layers for the loop but have no value for now\n",
    "#repeat same weight Ty times at the decoder\n",
    "attn_repeat_layer = RepeatVector(max_len_input)\n",
    "\n",
    "#last dimension has the output important values that are added\n",
    "#last dimension is LATENT_DIM which as we recall is M and h from\n",
    "# encoder has 2M as output\n",
    "# s(t-1) is M  for the decoder lstm so adding both 2M and M \n",
    "# which is the last dimension\n",
    "attn_concat_layer = Concatenate(axis=-1) #concatenate in the last dimension\n",
    "\n",
    "attn_dense1 = Dense(10, activation='tanh')\n",
    "attn_dense2 = Dense(1, activation=softmax_over_time)\n",
    " # perform the weighted sum of alpha[t] * h[t] to get context\n",
    "attn_dot = Dot(axes=1) #vector"
   ]
  },
  {
   "cell_type": "code",
   "execution_count": 22,
   "id": "d6eb2b59",
   "metadata": {},
   "outputs": [],
   "source": [
    "#function that will use previous layers\n",
    "def one_step_attention(h,st_1):\n",
    "    \n",
    "    #copy s(t-1) Tx times\n",
    "    #shape = (Tx, Latent_dim_decoder)\n",
    "    st_1 = attn_repeat_layer(st_1)\n",
    "    \n",
    "    #concaternat all h(t)'s with s(t-1)\n",
    "    #shape  (Tx, Latent_dim_decoder + Latent_dim *2)\n",
    "    #sum over the axis=1 which is the sum of the columns for each row\n",
    "    x = attn_concat_layer([h, st_1])\n",
    "    \n",
    "    #neural net first layer with tanh\n",
    "    x = attn_dense1(x)\n",
    "    \n",
    "    #neural net second layer with special softmax over time\n",
    "    alphas = attn_dense2(x)\n",
    "    \n",
    "    #dot for the alphas and the hidden_states h's\n",
    "    context = attn_dot([alphas, h])\n",
    "    \n",
    "    return context"
   ]
  },
  {
   "cell_type": "markdown",
   "id": "5ee5d061",
   "metadata": {},
   "source": [
    "# After Attention\n",
    "# LSTM implementation"
   ]
  },
  {
   "cell_type": "code",
   "execution_count": 23,
   "id": "2667549c",
   "metadata": {},
   "outputs": [],
   "source": [
    "decoder_lstm = LSTM(LATENT_DIM_DECODER, return_state=True)\n",
    "decoder_dense = Dense(num_words_output, activation='softmax') #softmax\n",
    "\n",
    "initial_s = Input(shape=(LATENT_DIM_DECODER,), name='s0')\n",
    "initial_c = Input(shape=(LATENT_DIM_DECODER,), name='c0')\n",
    "\n",
    "#adding all vaues in the third dimension for each row and column\n",
    "context_last_word_concat_layer = Concatenate(axis=2)#teacher forcing"
   ]
  },
  {
   "cell_type": "code",
   "execution_count": 24,
   "id": "39bf2ced",
   "metadata": {},
   "outputs": [],
   "source": [
    "#will be re-assigned for each iteration of the loop\n",
    "s = initial_s\n",
    "c = initial_c"
   ]
  },
  {
   "cell_type": "code",
   "execution_count": 25,
   "id": "de7c186f",
   "metadata": {},
   "outputs": [],
   "source": [
    "#output collection\n",
    "outputs=[]\n",
    "for t in range(max_len_target): #Ty times for the output\n",
    "    \n",
    "    #get the context using attention funciton\n",
    "    #encoder_outputs is the output of the bidirectional lstm\n",
    "    #bidirectional with return_sequence returns multiple hidden_states\n",
    "    context = one_step_attention(encoder_outputs, s)\n",
    "    \n",
    "    #allows us to get a new word embeded for teacher forcing\n",
    "    #this is a lambda layer different to a regular lambda\n",
    "    selector = Lambda(lambda x: x[:, t:t+1]) #new word\n",
    "    \n",
    "    #input the decoder_input_x which outputs the embedding of \n",
    "    #sequence which is the each word in a sentence but we pick\n",
    "    #one word at the time with the selector lambda\n",
    "    xt = selector(decoder_inputs_x)\n",
    "    \n",
    "    #combine for teacher forcing and is ready to be use as\n",
    "    # the input of the lstm in decoder\n",
    "    decoder_lstm_input = context_last_word_concat_layer([context, xt])\n",
    "    \n",
    "    #pass in the combine [context, last word] into the lstm\n",
    "    #one word at a time xt which is for teacher forcing\n",
    "    #with the [s, c] states\n",
    "    # get new output, s and c\n",
    "    o,s,c = decoder_lstm(decoder_lstm_input, initial_state=[s,c])\n",
    "    \n",
    "    #final dense layer to get the nexxt word prediction\n",
    "    decoder_outputs = decoder_dense(o) #softmax\n",
    "    \n",
    "    #add the output the outputs list\n",
    "    outputs.append(decoder_outputs)"
   ]
  },
  {
   "cell_type": "code",
   "execution_count": 26,
   "id": "a917233f",
   "metadata": {},
   "outputs": [],
   "source": [
    "def stack_and_transpose(x):\n",
    "    #x is a list of lenght T, each element is a\n",
    "    # batch_size x output_vocab_size tensor (b,V)\n",
    "    x = K.stack(x) #is now  T x b x V \n",
    "    \n",
    "    #batch_size x T x V \n",
    "    # b x T x V\n",
    "    # allows to change where each dimension should be with its values\n",
    "    x = K.permute_dimensions(x, pattern=(1,0,2))\n",
    "    return x\n",
    "    "
   ]
  },
  {
   "cell_type": "code",
   "execution_count": 27,
   "id": "5c82f544",
   "metadata": {},
   "outputs": [],
   "source": [
    "#make it into a layer \n",
    "#faster for layer formation will be Permute from layers\n",
    "stacker = Lambda(stack_and_transpose)\n",
    "#this is the last layer of the model\n",
    "outputs = stacker(outputs) # we insert the list so it can stack as a sequence"
   ]
  },
  {
   "cell_type": "markdown",
   "id": "c957abc0",
   "metadata": {},
   "source": [
    "# Creating Model"
   ]
  },
  {
   "cell_type": "code",
   "execution_count": 28,
   "id": "8ee223f3",
   "metadata": {},
   "outputs": [],
   "source": [
    "model = Model(\n",
    "    #place holders for inputs start of model first layer\n",
    "    inputs=[\n",
    "        encoder_inputs_placeholder,\n",
    "        decoder_inputs_placeholder,\n",
    "        initial_s,\n",
    "        initial_c,\n",
    "    ],\n",
    "    \n",
    "    #output of the last layer of the model\n",
    "    outputs=outputs\n",
    ")"
   ]
  },
  {
   "cell_type": "code",
   "execution_count": 29,
   "id": "2c345f7a",
   "metadata": {},
   "outputs": [],
   "source": [
    "model.compile(\n",
    "    optimizer='Adam',\n",
    "    loss ='SparseCategoricalCrossentropy',\n",
    "    metrics=[\"accuracy\"]\n",
    ")"
   ]
  },
  {
   "cell_type": "code",
   "execution_count": 30,
   "id": "3e2204f1",
   "metadata": {},
   "outputs": [
    {
     "name": "stdout",
     "output_type": "stream",
     "text": [
      "Epoch 1/200\n",
      "125/125 [==============================] - 57s 293ms/step - loss: 3.2766 - accuracy: 0.5885 - val_loss: 3.0676 - val_accuracy: 0.5573\n",
      "Epoch 2/200\n",
      "125/125 [==============================] - 31s 251ms/step - loss: 2.4893 - accuracy: 0.6334 - val_loss: 3.0098 - val_accuracy: 0.5914\n",
      "Epoch 3/200\n",
      "125/125 [==============================] - 32s 254ms/step - loss: 2.3974 - accuracy: 0.6442 - val_loss: 2.9899 - val_accuracy: 0.6028\n",
      "Epoch 4/200\n",
      "125/125 [==============================] - 32s 253ms/step - loss: 2.3345 - accuracy: 0.6515 - val_loss: 2.9779 - val_accuracy: 0.5992\n",
      "Epoch 5/200\n",
      "125/125 [==============================] - 32s 254ms/step - loss: 2.2830 - accuracy: 0.6552 - val_loss: 2.9208 - val_accuracy: 0.6051\n",
      "Epoch 6/200\n",
      "125/125 [==============================] - 32s 255ms/step - loss: 2.2306 - accuracy: 0.6593 - val_loss: 2.8535 - val_accuracy: 0.6137\n",
      "Epoch 7/200\n",
      "125/125 [==============================] - 32s 259ms/step - loss: 2.1710 - accuracy: 0.6662 - val_loss: 2.8152 - val_accuracy: 0.6167\n",
      "Epoch 8/200\n",
      "125/125 [==============================] - 32s 258ms/step - loss: 2.1121 - accuracy: 0.6712 - val_loss: 2.8099 - val_accuracy: 0.6179\n",
      "Epoch 9/200\n",
      "125/125 [==============================] - 32s 258ms/step - loss: 2.0600 - accuracy: 0.6753 - val_loss: 2.7721 - val_accuracy: 0.6215\n",
      "Epoch 10/200\n",
      "125/125 [==============================] - 32s 260ms/step - loss: 2.0069 - accuracy: 0.6782 - val_loss: 2.7613 - val_accuracy: 0.6207\n",
      "Epoch 11/200\n",
      "125/125 [==============================] - 32s 256ms/step - loss: 1.9519 - accuracy: 0.6843 - val_loss: 2.7205 - val_accuracy: 0.6234\n",
      "Epoch 12/200\n",
      "125/125 [==============================] - 32s 255ms/step - loss: 1.8936 - accuracy: 0.6898 - val_loss: 2.7134 - val_accuracy: 0.6274\n",
      "Epoch 13/200\n",
      "125/125 [==============================] - 32s 256ms/step - loss: 1.8348 - accuracy: 0.6935 - val_loss: 2.6877 - val_accuracy: 0.6304\n",
      "Epoch 14/200\n",
      "125/125 [==============================] - 32s 257ms/step - loss: 1.7752 - accuracy: 0.6993 - val_loss: 2.6482 - val_accuracy: 0.6342\n",
      "Epoch 15/200\n",
      "125/125 [==============================] - 32s 258ms/step - loss: 1.7180 - accuracy: 0.7047 - val_loss: 2.6365 - val_accuracy: 0.6331\n",
      "Epoch 16/200\n",
      "125/125 [==============================] - 32s 257ms/step - loss: 1.6634 - accuracy: 0.7094 - val_loss: 2.6031 - val_accuracy: 0.6389\n",
      "Epoch 17/200\n",
      "125/125 [==============================] - 32s 258ms/step - loss: 1.6067 - accuracy: 0.7132 - val_loss: 2.5919 - val_accuracy: 0.6418\n",
      "Epoch 18/200\n",
      "125/125 [==============================] - 32s 260ms/step - loss: 1.5523 - accuracy: 0.7177 - val_loss: 2.5790 - val_accuracy: 0.6427\n",
      "Epoch 19/200\n",
      "125/125 [==============================] - 32s 257ms/step - loss: 1.4950 - accuracy: 0.7212 - val_loss: 2.5678 - val_accuracy: 0.6467\n",
      "Epoch 20/200\n",
      "125/125 [==============================] - 32s 258ms/step - loss: 1.4410 - accuracy: 0.7272 - val_loss: 2.5425 - val_accuracy: 0.6496\n",
      "Epoch 21/200\n",
      "125/125 [==============================] - 33s 260ms/step - loss: 1.3926 - accuracy: 0.7294 - val_loss: 2.5299 - val_accuracy: 0.6518\n",
      "Epoch 22/200\n",
      "125/125 [==============================] - 33s 262ms/step - loss: 1.3335 - accuracy: 0.7353 - val_loss: 2.5206 - val_accuracy: 0.6544\n",
      "Epoch 23/200\n",
      "125/125 [==============================] - 32s 260ms/step - loss: 1.2819 - accuracy: 0.7392 - val_loss: 2.5064 - val_accuracy: 0.6568\n",
      "Epoch 24/200\n",
      "125/125 [==============================] - 33s 266ms/step - loss: 1.2328 - accuracy: 0.7436 - val_loss: 2.4920 - val_accuracy: 0.6624\n",
      "Epoch 25/200\n",
      "125/125 [==============================] - 32s 260ms/step - loss: 1.1793 - accuracy: 0.7492 - val_loss: 2.4874 - val_accuracy: 0.6621\n",
      "Epoch 26/200\n",
      "125/125 [==============================] - 32s 260ms/step - loss: 1.1372 - accuracy: 0.7538 - val_loss: 2.4637 - val_accuracy: 0.6646\n",
      "Epoch 27/200\n",
      "125/125 [==============================] - 33s 261ms/step - loss: 1.0939 - accuracy: 0.7572 - val_loss: 2.4531 - val_accuracy: 0.6683\n",
      "Epoch 28/200\n",
      "125/125 [==============================] - 33s 262ms/step - loss: 1.0462 - accuracy: 0.7621 - val_loss: 2.4463 - val_accuracy: 0.6674\n",
      "Epoch 29/200\n",
      "125/125 [==============================] - 33s 262ms/step - loss: 1.0038 - accuracy: 0.7664 - val_loss: 2.4488 - val_accuracy: 0.6710\n",
      "Epoch 30/200\n",
      "125/125 [==============================] - 33s 261ms/step - loss: 0.9651 - accuracy: 0.7708 - val_loss: 2.4383 - val_accuracy: 0.6684\n",
      "Epoch 31/200\n",
      "125/125 [==============================] - 33s 263ms/step - loss: 0.9295 - accuracy: 0.7761 - val_loss: 2.4343 - val_accuracy: 0.6702\n",
      "Epoch 32/200\n",
      "125/125 [==============================] - 33s 263ms/step - loss: 0.8937 - accuracy: 0.7814 - val_loss: 2.4225 - val_accuracy: 0.6750\n",
      "Epoch 33/200\n",
      "125/125 [==============================] - 33s 263ms/step - loss: 0.8549 - accuracy: 0.7867 - val_loss: 2.4308 - val_accuracy: 0.6688\n",
      "Epoch 34/200\n",
      "125/125 [==============================] - 33s 262ms/step - loss: 0.8225 - accuracy: 0.7922 - val_loss: 2.4184 - val_accuracy: 0.6772\n",
      "Epoch 35/200\n",
      "125/125 [==============================] - 33s 263ms/step - loss: 0.7943 - accuracy: 0.7961 - val_loss: 2.4194 - val_accuracy: 0.6698\n",
      "Epoch 36/200\n",
      "125/125 [==============================] - 33s 264ms/step - loss: 0.7640 - accuracy: 0.8011 - val_loss: 2.4211 - val_accuracy: 0.6733\n",
      "Epoch 37/200\n",
      "125/125 [==============================] - 33s 264ms/step - loss: 0.7383 - accuracy: 0.8069 - val_loss: 2.4174 - val_accuracy: 0.6751\n",
      "Epoch 38/200\n",
      "125/125 [==============================] - 33s 266ms/step - loss: 0.7120 - accuracy: 0.8107 - val_loss: 2.4144 - val_accuracy: 0.6763\n",
      "Epoch 39/200\n",
      "125/125 [==============================] - 33s 263ms/step - loss: 0.6857 - accuracy: 0.8153 - val_loss: 2.4091 - val_accuracy: 0.6798\n",
      "Epoch 40/200\n",
      "125/125 [==============================] - 33s 264ms/step - loss: 0.6655 - accuracy: 0.8183 - val_loss: 2.4133 - val_accuracy: 0.6766\n",
      "Epoch 41/200\n",
      "125/125 [==============================] - 33s 264ms/step - loss: 0.6449 - accuracy: 0.8225 - val_loss: 2.4152 - val_accuracy: 0.6764\n",
      "Epoch 42/200\n",
      "125/125 [==============================] - 33s 265ms/step - loss: 0.6215 - accuracy: 0.8274 - val_loss: 2.4241 - val_accuracy: 0.6811\n",
      "Epoch 43/200\n",
      "125/125 [==============================] - 33s 266ms/step - loss: 0.6016 - accuracy: 0.8302 - val_loss: 2.4131 - val_accuracy: 0.6808\n",
      "Epoch 44/200\n",
      "125/125 [==============================] - 33s 266ms/step - loss: 0.5840 - accuracy: 0.8345 - val_loss: 2.4188 - val_accuracy: 0.6782\n",
      "Epoch 45/200\n",
      "125/125 [==============================] - 33s 266ms/step - loss: 0.5674 - accuracy: 0.8356 - val_loss: 2.4170 - val_accuracy: 0.6768\n",
      "Epoch 46/200\n",
      "125/125 [==============================] - 33s 266ms/step - loss: 0.5502 - accuracy: 0.8406 - val_loss: 2.4246 - val_accuracy: 0.6797\n",
      "Epoch 47/200\n",
      "125/125 [==============================] - 33s 267ms/step - loss: 0.5344 - accuracy: 0.8435 - val_loss: 2.4281 - val_accuracy: 0.6792\n",
      "Epoch 48/200\n",
      "125/125 [==============================] - 33s 266ms/step - loss: 0.5208 - accuracy: 0.8471 - val_loss: 2.4275 - val_accuracy: 0.6786\n",
      "Epoch 49/200\n",
      "125/125 [==============================] - 33s 266ms/step - loss: 0.5077 - accuracy: 0.8488 - val_loss: 2.4295 - val_accuracy: 0.6820\n",
      "Epoch 50/200\n",
      "125/125 [==============================] - 33s 266ms/step - loss: 0.4926 - accuracy: 0.8520 - val_loss: 2.4327 - val_accuracy: 0.6802\n",
      "Epoch 51/200\n",
      "125/125 [==============================] - 33s 266ms/step - loss: 0.4815 - accuracy: 0.8538 - val_loss: 2.4417 - val_accuracy: 0.6847\n",
      "Epoch 52/200\n",
      "125/125 [==============================] - 33s 268ms/step - loss: 0.4668 - accuracy: 0.8580 - val_loss: 2.4415 - val_accuracy: 0.6814\n",
      "Epoch 53/200\n",
      "125/125 [==============================] - 33s 267ms/step - loss: 0.4576 - accuracy: 0.8595 - val_loss: 2.4422 - val_accuracy: 0.6862\n",
      "Epoch 54/200\n",
      "125/125 [==============================] - 34s 270ms/step - loss: 0.4440 - accuracy: 0.8629 - val_loss: 2.4428 - val_accuracy: 0.6852\n",
      "Epoch 55/200\n",
      "125/125 [==============================] - 34s 269ms/step - loss: 0.4358 - accuracy: 0.8628 - val_loss: 2.4457 - val_accuracy: 0.6845\n",
      "Epoch 56/200\n",
      "125/125 [==============================] - 33s 267ms/step - loss: 0.4261 - accuracy: 0.8659 - val_loss: 2.4435 - val_accuracy: 0.6836\n",
      "Epoch 57/200\n",
      "125/125 [==============================] - 33s 266ms/step - loss: 0.4162 - accuracy: 0.8681 - val_loss: 2.4412 - val_accuracy: 0.6811\n",
      "Epoch 58/200\n",
      "125/125 [==============================] - 33s 266ms/step - loss: 0.4094 - accuracy: 0.8681 - val_loss: 2.4428 - val_accuracy: 0.6841\n",
      "Epoch 59/200\n",
      "125/125 [==============================] - 33s 267ms/step - loss: 0.4038 - accuracy: 0.8691 - val_loss: 2.4556 - val_accuracy: 0.6849\n",
      "Epoch 60/200\n",
      "125/125 [==============================] - 34s 269ms/step - loss: 0.3928 - accuracy: 0.8720 - val_loss: 2.4551 - val_accuracy: 0.6863\n",
      "Epoch 61/200\n",
      "125/125 [==============================] - 33s 268ms/step - loss: 0.3844 - accuracy: 0.8727 - val_loss: 2.4535 - val_accuracy: 0.6860\n",
      "Epoch 62/200\n",
      "125/125 [==============================] - 34s 269ms/step - loss: 0.3721 - accuracy: 0.8750 - val_loss: 2.4718 - val_accuracy: 0.6889\n",
      "Epoch 63/200\n",
      "125/125 [==============================] - 33s 268ms/step - loss: 0.3701 - accuracy: 0.8754 - val_loss: 2.4705 - val_accuracy: 0.6849\n",
      "Epoch 64/200\n",
      "125/125 [==============================] - 33s 268ms/step - loss: 0.3626 - accuracy: 0.8771 - val_loss: 2.4716 - val_accuracy: 0.6868\n",
      "Epoch 65/200\n",
      "125/125 [==============================] - 34s 271ms/step - loss: 0.3550 - accuracy: 0.8794 - val_loss: 2.4818 - val_accuracy: 0.6836\n",
      "Epoch 66/200\n",
      "125/125 [==============================] - 34s 270ms/step - loss: 0.3475 - accuracy: 0.8806 - val_loss: 2.4834 - val_accuracy: 0.6874\n",
      "Epoch 67/200\n",
      "125/125 [==============================] - 34s 269ms/step - loss: 0.3468 - accuracy: 0.8798 - val_loss: 2.4818 - val_accuracy: 0.6855\n",
      "Epoch 68/200\n",
      "125/125 [==============================] - 34s 271ms/step - loss: 0.3366 - accuracy: 0.8820 - val_loss: 2.4969 - val_accuracy: 0.6876\n",
      "Epoch 69/200\n",
      "125/125 [==============================] - 34s 271ms/step - loss: 0.3332 - accuracy: 0.8826 - val_loss: 2.4739 - val_accuracy: 0.6872\n",
      "Epoch 70/200\n",
      "125/125 [==============================] - 34s 272ms/step - loss: 0.3291 - accuracy: 0.8840 - val_loss: 2.5030 - val_accuracy: 0.6884\n",
      "Epoch 71/200\n",
      "125/125 [==============================] - 34s 274ms/step - loss: 0.3196 - accuracy: 0.8862 - val_loss: 2.4921 - val_accuracy: 0.6871\n",
      "Epoch 72/200\n",
      "125/125 [==============================] - 34s 272ms/step - loss: 0.3173 - accuracy: 0.8868 - val_loss: 2.5044 - val_accuracy: 0.6863\n",
      "Epoch 73/200\n",
      "125/125 [==============================] - 34s 270ms/step - loss: 0.3118 - accuracy: 0.8872 - val_loss: 2.5098 - val_accuracy: 0.6856\n",
      "Epoch 74/200\n",
      "125/125 [==============================] - 34s 271ms/step - loss: 0.3075 - accuracy: 0.8892 - val_loss: 2.5103 - val_accuracy: 0.6869\n",
      "Epoch 75/200\n",
      "125/125 [==============================] - 34s 271ms/step - loss: 0.3055 - accuracy: 0.8876 - val_loss: 2.5166 - val_accuracy: 0.6851\n",
      "Epoch 76/200\n",
      "125/125 [==============================] - 35s 280ms/step - loss: 0.3009 - accuracy: 0.8899 - val_loss: 2.5078 - val_accuracy: 0.6891\n",
      "Epoch 77/200\n",
      "125/125 [==============================] - 35s 276ms/step - loss: 0.2946 - accuracy: 0.8902 - val_loss: 2.5162 - val_accuracy: 0.6851\n",
      "Epoch 78/200\n",
      "125/125 [==============================] - 34s 276ms/step - loss: 0.2923 - accuracy: 0.8907 - val_loss: 2.5180 - val_accuracy: 0.6872\n",
      "Epoch 79/200\n",
      "125/125 [==============================] - 35s 276ms/step - loss: 0.2881 - accuracy: 0.8917 - val_loss: 2.5095 - val_accuracy: 0.6861\n",
      "Epoch 80/200\n",
      "125/125 [==============================] - 34s 276ms/step - loss: 0.2847 - accuracy: 0.8934 - val_loss: 2.5375 - val_accuracy: 0.6897\n",
      "Epoch 81/200\n",
      "125/125 [==============================] - 35s 277ms/step - loss: 0.2826 - accuracy: 0.8938 - val_loss: 2.5289 - val_accuracy: 0.6884\n",
      "Epoch 82/200\n",
      "125/125 [==============================] - 35s 278ms/step - loss: 0.2777 - accuracy: 0.8944 - val_loss: 2.5448 - val_accuracy: 0.6829\n",
      "Epoch 83/200\n",
      "125/125 [==============================] - 35s 278ms/step - loss: 0.2731 - accuracy: 0.8949 - val_loss: 2.5457 - val_accuracy: 0.6888\n",
      "Epoch 84/200\n",
      "125/125 [==============================] - 35s 276ms/step - loss: 0.2699 - accuracy: 0.8958 - val_loss: 2.5429 - val_accuracy: 0.6873\n",
      "Epoch 85/200\n",
      "125/125 [==============================] - 35s 278ms/step - loss: 0.2700 - accuracy: 0.8952 - val_loss: 2.5586 - val_accuracy: 0.6855\n",
      "Epoch 86/200\n",
      "125/125 [==============================] - 35s 277ms/step - loss: 0.2663 - accuracy: 0.8955 - val_loss: 2.5681 - val_accuracy: 0.6859\n",
      "Epoch 87/200\n",
      "125/125 [==============================] - 35s 278ms/step - loss: 0.2633 - accuracy: 0.8975 - val_loss: 2.5573 - val_accuracy: 0.6889\n",
      "Epoch 88/200\n",
      "125/125 [==============================] - 35s 278ms/step - loss: 0.2605 - accuracy: 0.8970 - val_loss: 2.5492 - val_accuracy: 0.6898\n",
      "Epoch 89/200\n",
      "125/125 [==============================] - 35s 279ms/step - loss: 0.2566 - accuracy: 0.8976 - val_loss: 2.5709 - val_accuracy: 0.6896\n",
      "Epoch 90/200\n",
      "125/125 [==============================] - 35s 281ms/step - loss: 0.2558 - accuracy: 0.8980 - val_loss: 2.5764 - val_accuracy: 0.6862\n",
      "Epoch 91/200\n",
      "125/125 [==============================] - 35s 283ms/step - loss: 0.2547 - accuracy: 0.8979 - val_loss: 2.5799 - val_accuracy: 0.6859\n",
      "Epoch 92/200\n",
      "125/125 [==============================] - 35s 281ms/step - loss: 0.2537 - accuracy: 0.8981 - val_loss: 2.5754 - val_accuracy: 0.6851\n",
      "Epoch 93/200\n",
      "125/125 [==============================] - 35s 281ms/step - loss: 0.2485 - accuracy: 0.8988 - val_loss: 2.6088 - val_accuracy: 0.6872\n",
      "Epoch 94/200\n",
      "125/125 [==============================] - 35s 281ms/step - loss: 0.2463 - accuracy: 0.8996 - val_loss: 2.5889 - val_accuracy: 0.6877\n",
      "Epoch 95/200\n",
      "125/125 [==============================] - 35s 281ms/step - loss: 0.2446 - accuracy: 0.9008 - val_loss: 2.6003 - val_accuracy: 0.6858\n",
      "Epoch 96/200\n",
      "125/125 [==============================] - 35s 282ms/step - loss: 0.2418 - accuracy: 0.9005 - val_loss: 2.5988 - val_accuracy: 0.6881\n",
      "Epoch 97/200\n",
      "125/125 [==============================] - 36s 285ms/step - loss: 0.2409 - accuracy: 0.9005 - val_loss: 2.5893 - val_accuracy: 0.6875\n",
      "Epoch 98/200\n",
      "125/125 [==============================] - 36s 285ms/step - loss: 0.2404 - accuracy: 0.9008 - val_loss: 2.5997 - val_accuracy: 0.6866\n",
      "Epoch 99/200\n",
      "125/125 [==============================] - 36s 285ms/step - loss: 0.2365 - accuracy: 0.9012 - val_loss: 2.5912 - val_accuracy: 0.6846\n",
      "Epoch 100/200\n",
      "125/125 [==============================] - 36s 286ms/step - loss: 0.2343 - accuracy: 0.9009 - val_loss: 2.6032 - val_accuracy: 0.6853\n",
      "Epoch 101/200\n",
      "125/125 [==============================] - 36s 285ms/step - loss: 0.2335 - accuracy: 0.9018 - val_loss: 2.6019 - val_accuracy: 0.6897\n",
      "Epoch 102/200\n",
      "125/125 [==============================] - 36s 285ms/step - loss: 0.2307 - accuracy: 0.9022 - val_loss: 2.6129 - val_accuracy: 0.6891\n",
      "Epoch 103/200\n",
      "125/125 [==============================] - 36s 287ms/step - loss: 0.2291 - accuracy: 0.9020 - val_loss: 2.6064 - val_accuracy: 0.6884\n",
      "Epoch 104/200\n",
      "125/125 [==============================] - 36s 287ms/step - loss: 0.2284 - accuracy: 0.9031 - val_loss: 2.6185 - val_accuracy: 0.6897\n",
      "Epoch 105/200\n",
      "125/125 [==============================] - 36s 289ms/step - loss: 0.2273 - accuracy: 0.9016 - val_loss: 2.6089 - val_accuracy: 0.6891\n",
      "Epoch 106/200\n",
      "125/125 [==============================] - 36s 287ms/step - loss: 0.2283 - accuracy: 0.9022 - val_loss: 2.6146 - val_accuracy: 0.6876\n",
      "Epoch 107/200\n",
      "125/125 [==============================] - 36s 291ms/step - loss: 0.2228 - accuracy: 0.9046 - val_loss: 2.6231 - val_accuracy: 0.6873\n",
      "Epoch 108/200\n",
      "125/125 [==============================] - 36s 289ms/step - loss: 0.2246 - accuracy: 0.9037 - val_loss: 2.6239 - val_accuracy: 0.6897\n",
      "Epoch 109/200\n",
      "125/125 [==============================] - 36s 290ms/step - loss: 0.2217 - accuracy: 0.9046 - val_loss: 2.6219 - val_accuracy: 0.6906\n",
      "Epoch 110/200\n",
      "125/125 [==============================] - 36s 290ms/step - loss: 0.2215 - accuracy: 0.9039 - val_loss: 2.6255 - val_accuracy: 0.6888\n",
      "Epoch 111/200\n",
      "125/125 [==============================] - 36s 290ms/step - loss: 0.2205 - accuracy: 0.9029 - val_loss: 2.6275 - val_accuracy: 0.6872\n",
      "Epoch 112/200\n",
      "125/125 [==============================] - 36s 289ms/step - loss: 0.2184 - accuracy: 0.9041 - val_loss: 2.6308 - val_accuracy: 0.6877\n",
      "Epoch 113/200\n",
      "125/125 [==============================] - 36s 291ms/step - loss: 0.2186 - accuracy: 0.9037 - val_loss: 2.6325 - val_accuracy: 0.6891\n",
      "Epoch 114/200\n",
      "125/125 [==============================] - 37s 295ms/step - loss: 0.2166 - accuracy: 0.9049 - val_loss: 2.6476 - val_accuracy: 0.6885\n",
      "Epoch 115/200\n",
      "125/125 [==============================] - 37s 293ms/step - loss: 0.2148 - accuracy: 0.9042 - val_loss: 2.6395 - val_accuracy: 0.6873\n",
      "Epoch 116/200\n",
      "125/125 [==============================] - 37s 293ms/step - loss: 0.2124 - accuracy: 0.9058 - val_loss: 2.6532 - val_accuracy: 0.6914\n",
      "Epoch 117/200\n",
      "125/125 [==============================] - 36s 290ms/step - loss: 0.2118 - accuracy: 0.9047 - val_loss: 2.6639 - val_accuracy: 0.6873\n",
      "Epoch 118/200\n",
      "125/125 [==============================] - 36s 291ms/step - loss: 0.2116 - accuracy: 0.9052 - val_loss: 2.6441 - val_accuracy: 0.6873\n",
      "Epoch 119/200\n",
      "125/125 [==============================] - 36s 291ms/step - loss: 0.2099 - accuracy: 0.9059 - val_loss: 2.6497 - val_accuracy: 0.6841\n",
      "Epoch 120/200\n",
      "125/125 [==============================] - 37s 293ms/step - loss: 0.2078 - accuracy: 0.9067 - val_loss: 2.6591 - val_accuracy: 0.6841\n",
      "Epoch 121/200\n",
      "125/125 [==============================] - 37s 294ms/step - loss: 0.2102 - accuracy: 0.9048 - val_loss: 2.6565 - val_accuracy: 0.6849\n",
      "Epoch 122/200\n",
      "125/125 [==============================] - 37s 294ms/step - loss: 0.2085 - accuracy: 0.9056 - val_loss: 2.6579 - val_accuracy: 0.6847\n",
      "Epoch 123/200\n",
      "125/125 [==============================] - 37s 293ms/step - loss: 0.2079 - accuracy: 0.9062 - val_loss: 2.6602 - val_accuracy: 0.6843\n",
      "Epoch 124/200\n",
      "125/125 [==============================] - 37s 294ms/step - loss: 0.2072 - accuracy: 0.9051 - val_loss: 2.6688 - val_accuracy: 0.6855\n",
      "Epoch 125/200\n",
      "125/125 [==============================] - 37s 295ms/step - loss: 0.2060 - accuracy: 0.9050 - val_loss: 2.6674 - val_accuracy: 0.6907\n",
      "Epoch 126/200\n",
      "125/125 [==============================] - 37s 293ms/step - loss: 0.2027 - accuracy: 0.9062 - val_loss: 2.6809 - val_accuracy: 0.6853\n",
      "Epoch 127/200\n",
      "125/125 [==============================] - 37s 297ms/step - loss: 0.2028 - accuracy: 0.9075 - val_loss: 2.6802 - val_accuracy: 0.6898\n",
      "Epoch 128/200\n",
      "125/125 [==============================] - 37s 295ms/step - loss: 0.2028 - accuracy: 0.9075 - val_loss: 2.6901 - val_accuracy: 0.6894\n",
      "Epoch 129/200\n",
      "125/125 [==============================] - 37s 297ms/step - loss: 0.2041 - accuracy: 0.9055 - val_loss: 2.6720 - val_accuracy: 0.6898\n",
      "Epoch 130/200\n",
      "125/125 [==============================] - 37s 297ms/step - loss: 0.2034 - accuracy: 0.9065 - val_loss: 2.6797 - val_accuracy: 0.6882\n",
      "Epoch 131/200\n",
      "125/125 [==============================] - 37s 297ms/step - loss: 0.2022 - accuracy: 0.9060 - val_loss: 2.7103 - val_accuracy: 0.6883\n",
      "Epoch 132/200\n",
      "125/125 [==============================] - 37s 298ms/step - loss: 0.2005 - accuracy: 0.9063 - val_loss: 2.6946 - val_accuracy: 0.6881\n",
      "Epoch 133/200\n",
      "125/125 [==============================] - 37s 298ms/step - loss: 0.1994 - accuracy: 0.9072 - val_loss: 2.6939 - val_accuracy: 0.6898\n",
      "Epoch 134/200\n",
      "125/125 [==============================] - 37s 299ms/step - loss: 0.1978 - accuracy: 0.9081 - val_loss: 2.6792 - val_accuracy: 0.6864\n",
      "Epoch 135/200\n",
      "125/125 [==============================] - 37s 300ms/step - loss: 0.1974 - accuracy: 0.9080 - val_loss: 2.6982 - val_accuracy: 0.6899\n",
      "Epoch 136/200\n",
      "125/125 [==============================] - 37s 300ms/step - loss: 0.1981 - accuracy: 0.9080 - val_loss: 2.6789 - val_accuracy: 0.6914\n",
      "Epoch 137/200\n",
      "125/125 [==============================] - 38s 300ms/step - loss: 0.1993 - accuracy: 0.9063 - val_loss: 2.6934 - val_accuracy: 0.6890\n",
      "Epoch 138/200\n",
      "125/125 [==============================] - 37s 300ms/step - loss: 0.1963 - accuracy: 0.9075 - val_loss: 2.6909 - val_accuracy: 0.6881\n",
      "Epoch 139/200\n",
      "125/125 [==============================] - 38s 301ms/step - loss: 0.1977 - accuracy: 0.9074 - val_loss: 2.6946 - val_accuracy: 0.6927\n",
      "Epoch 140/200\n",
      "125/125 [==============================] - 38s 302ms/step - loss: 0.1960 - accuracy: 0.9065 - val_loss: 2.6951 - val_accuracy: 0.6876\n",
      "Epoch 141/200\n",
      "125/125 [==============================] - 38s 305ms/step - loss: 0.1943 - accuracy: 0.9072 - val_loss: 2.7011 - val_accuracy: 0.6886\n",
      "Epoch 142/200\n",
      "125/125 [==============================] - 38s 302ms/step - loss: 0.1955 - accuracy: 0.9080 - val_loss: 2.6975 - val_accuracy: 0.6880\n",
      "Epoch 143/200\n",
      "125/125 [==============================] - 38s 304ms/step - loss: 0.1949 - accuracy: 0.9072 - val_loss: 2.7098 - val_accuracy: 0.6886\n",
      "Epoch 144/200\n",
      "125/125 [==============================] - 38s 304ms/step - loss: 0.1943 - accuracy: 0.9059 - val_loss: 2.7145 - val_accuracy: 0.6890\n",
      "Epoch 145/200\n",
      "125/125 [==============================] - 38s 304ms/step - loss: 0.1923 - accuracy: 0.9076 - val_loss: 2.6991 - val_accuracy: 0.6855\n",
      "Epoch 146/200\n",
      "125/125 [==============================] - 38s 305ms/step - loss: 0.1926 - accuracy: 0.9086 - val_loss: 2.7090 - val_accuracy: 0.6857\n",
      "Epoch 147/200\n",
      "125/125 [==============================] - 38s 304ms/step - loss: 0.1919 - accuracy: 0.9076 - val_loss: 2.7212 - val_accuracy: 0.6903\n",
      "Epoch 148/200\n",
      "125/125 [==============================] - 38s 305ms/step - loss: 0.1929 - accuracy: 0.9065 - val_loss: 2.7113 - val_accuracy: 0.6865\n",
      "Epoch 149/200\n",
      "125/125 [==============================] - 38s 306ms/step - loss: 0.1925 - accuracy: 0.9067 - val_loss: 2.7280 - val_accuracy: 0.6855\n",
      "Epoch 150/200\n",
      "125/125 [==============================] - 38s 307ms/step - loss: 0.1908 - accuracy: 0.9088 - val_loss: 2.7377 - val_accuracy: 0.6900\n",
      "Epoch 151/200\n",
      "125/125 [==============================] - 38s 308ms/step - loss: 0.1895 - accuracy: 0.9085 - val_loss: 2.7318 - val_accuracy: 0.6848\n",
      "Epoch 152/200\n",
      "125/125 [==============================] - 38s 306ms/step - loss: 0.1896 - accuracy: 0.9079 - val_loss: 2.7318 - val_accuracy: 0.6881\n",
      "Epoch 153/200\n",
      "125/125 [==============================] - 39s 309ms/step - loss: 0.1919 - accuracy: 0.9074 - val_loss: 2.7200 - val_accuracy: 0.6883\n",
      "Epoch 154/200\n",
      "125/125 [==============================] - 40s 321ms/step - loss: 0.1900 - accuracy: 0.9084 - val_loss: 2.7392 - val_accuracy: 0.6898\n",
      "Epoch 155/200\n",
      "125/125 [==============================] - 41s 326ms/step - loss: 0.1892 - accuracy: 0.9077 - val_loss: 2.7317 - val_accuracy: 0.6885\n",
      "Epoch 156/200\n",
      "125/125 [==============================] - 39s 310ms/step - loss: 0.1874 - accuracy: 0.9076 - val_loss: 2.7423 - val_accuracy: 0.6922\n",
      "Epoch 157/200\n",
      "125/125 [==============================] - 39s 310ms/step - loss: 0.1879 - accuracy: 0.9087 - val_loss: 2.7325 - val_accuracy: 0.6884\n",
      "Epoch 158/200\n",
      "125/125 [==============================] - 39s 309ms/step - loss: 0.1873 - accuracy: 0.9086 - val_loss: 2.7249 - val_accuracy: 0.6883\n",
      "Epoch 159/200\n",
      "125/125 [==============================] - 39s 310ms/step - loss: 0.1883 - accuracy: 0.9079 - val_loss: 2.7343 - val_accuracy: 0.6890\n",
      "Epoch 160/200\n",
      "125/125 [==============================] - 39s 311ms/step - loss: 0.1872 - accuracy: 0.9086 - val_loss: 2.7389 - val_accuracy: 0.6896\n",
      "Epoch 161/200\n",
      "125/125 [==============================] - 39s 313ms/step - loss: 0.1874 - accuracy: 0.9082 - val_loss: 2.7330 - val_accuracy: 0.6902\n",
      "Epoch 162/200\n",
      "125/125 [==============================] - 39s 315ms/step - loss: 0.1860 - accuracy: 0.9081 - val_loss: 2.7400 - val_accuracy: 0.6888\n",
      "Epoch 163/200\n",
      "125/125 [==============================] - 39s 312ms/step - loss: 0.1856 - accuracy: 0.9080 - val_loss: 2.7486 - val_accuracy: 0.6887\n",
      "Epoch 164/200\n",
      "125/125 [==============================] - 39s 315ms/step - loss: 0.1858 - accuracy: 0.9074 - val_loss: 2.7268 - val_accuracy: 0.6880\n",
      "Epoch 165/200\n",
      "125/125 [==============================] - 39s 314ms/step - loss: 0.1842 - accuracy: 0.9095 - val_loss: 2.7439 - val_accuracy: 0.6905\n",
      "Epoch 166/200\n",
      "125/125 [==============================] - 40s 317ms/step - loss: 0.1860 - accuracy: 0.9069 - val_loss: 2.7623 - val_accuracy: 0.6907\n",
      "Epoch 167/200\n",
      "125/125 [==============================] - 39s 315ms/step - loss: 0.1860 - accuracy: 0.9077 - val_loss: 2.7525 - val_accuracy: 0.6887\n",
      "Epoch 168/200\n",
      "125/125 [==============================] - 39s 316ms/step - loss: 0.1867 - accuracy: 0.9079 - val_loss: 2.7370 - val_accuracy: 0.6896\n",
      "Epoch 169/200\n",
      "125/125 [==============================] - 40s 320ms/step - loss: 0.1840 - accuracy: 0.9093 - val_loss: 2.7527 - val_accuracy: 0.6914\n",
      "Epoch 170/200\n",
      "125/125 [==============================] - 39s 316ms/step - loss: 0.1841 - accuracy: 0.9082 - val_loss: 2.7608 - val_accuracy: 0.6887\n",
      "Epoch 171/200\n",
      "125/125 [==============================] - 39s 316ms/step - loss: 0.1855 - accuracy: 0.9069 - val_loss: 2.7557 - val_accuracy: 0.6878\n",
      "Epoch 172/200\n",
      "125/125 [==============================] - 40s 320ms/step - loss: 0.1834 - accuracy: 0.9089 - val_loss: 2.7609 - val_accuracy: 0.6902\n",
      "Epoch 173/200\n",
      "125/125 [==============================] - 40s 319ms/step - loss: 0.1855 - accuracy: 0.9074 - val_loss: 2.7694 - val_accuracy: 0.6876\n",
      "Epoch 174/200\n",
      "125/125 [==============================] - 40s 323ms/step - loss: 0.1832 - accuracy: 0.9085 - val_loss: 2.7828 - val_accuracy: 0.6903\n",
      "Epoch 175/200\n",
      "125/125 [==============================] - 40s 319ms/step - loss: 0.1846 - accuracy: 0.9072 - val_loss: 2.7662 - val_accuracy: 0.6906\n",
      "Epoch 176/200\n",
      "125/125 [==============================] - 40s 319ms/step - loss: 0.1833 - accuracy: 0.9078 - val_loss: 2.7669 - val_accuracy: 0.6913\n",
      "Epoch 177/200\n",
      "125/125 [==============================] - 40s 321ms/step - loss: 0.1825 - accuracy: 0.9064 - val_loss: 2.7781 - val_accuracy: 0.6903\n",
      "Epoch 178/200\n",
      "125/125 [==============================] - 40s 320ms/step - loss: 0.1814 - accuracy: 0.9089 - val_loss: 2.7852 - val_accuracy: 0.6907\n",
      "Epoch 179/200\n",
      "125/125 [==============================] - 40s 319ms/step - loss: 0.1826 - accuracy: 0.9078 - val_loss: 2.7763 - val_accuracy: 0.6863\n",
      "Epoch 180/200\n",
      "125/125 [==============================] - 40s 320ms/step - loss: 0.1815 - accuracy: 0.9084 - val_loss: 2.7682 - val_accuracy: 0.6908\n",
      "Epoch 181/200\n",
      "125/125 [==============================] - 40s 322ms/step - loss: 0.1810 - accuracy: 0.9082 - val_loss: 2.7670 - val_accuracy: 0.6896\n",
      "Epoch 182/200\n",
      "125/125 [==============================] - 40s 322ms/step - loss: 0.1797 - accuracy: 0.9087 - val_loss: 2.7822 - val_accuracy: 0.6901\n",
      "Epoch 183/200\n",
      "125/125 [==============================] - 40s 321ms/step - loss: 0.1801 - accuracy: 0.9080 - val_loss: 2.7808 - val_accuracy: 0.6921\n",
      "Epoch 184/200\n",
      "125/125 [==============================] - 40s 323ms/step - loss: 0.1805 - accuracy: 0.9088 - val_loss: 2.7765 - val_accuracy: 0.6916\n",
      "Epoch 185/200\n",
      "125/125 [==============================] - 40s 322ms/step - loss: 0.1817 - accuracy: 0.9083 - val_loss: 2.7812 - val_accuracy: 0.6903\n",
      "Epoch 186/200\n",
      "125/125 [==============================] - 40s 322ms/step - loss: 0.1788 - accuracy: 0.9089 - val_loss: 2.7833 - val_accuracy: 0.6908\n",
      "Epoch 187/200\n",
      "125/125 [==============================] - 41s 325ms/step - loss: 0.1793 - accuracy: 0.9097 - val_loss: 2.7874 - val_accuracy: 0.6868\n",
      "Epoch 188/200\n",
      "125/125 [==============================] - 40s 324ms/step - loss: 0.1801 - accuracy: 0.9081 - val_loss: 2.7782 - val_accuracy: 0.6895\n",
      "Epoch 189/200\n",
      "125/125 [==============================] - 40s 323ms/step - loss: 0.1779 - accuracy: 0.9100 - val_loss: 2.7963 - val_accuracy: 0.6872\n",
      "Epoch 190/200\n",
      "125/125 [==============================] - 41s 325ms/step - loss: 0.1792 - accuracy: 0.9093 - val_loss: 2.8024 - val_accuracy: 0.6884\n",
      "Epoch 191/200\n",
      "125/125 [==============================] - 41s 326ms/step - loss: 0.1788 - accuracy: 0.9084 - val_loss: 2.8065 - val_accuracy: 0.6903\n",
      "Epoch 192/200\n",
      "125/125 [==============================] - 41s 327ms/step - loss: 0.1769 - accuracy: 0.9099 - val_loss: 2.7958 - val_accuracy: 0.6884\n",
      "Epoch 193/200\n",
      "125/125 [==============================] - 42s 333ms/step - loss: 0.1795 - accuracy: 0.9080 - val_loss: 2.8056 - val_accuracy: 0.6904\n",
      "Epoch 194/200\n",
      "125/125 [==============================] - 43s 341ms/step - loss: 0.1796 - accuracy: 0.9081 - val_loss: 2.7904 - val_accuracy: 0.6901\n",
      "Epoch 195/200\n",
      "125/125 [==============================] - 47s 376ms/step - loss: 0.1777 - accuracy: 0.9089 - val_loss: 2.7762 - val_accuracy: 0.6886\n",
      "Epoch 196/200\n",
      "125/125 [==============================] - 47s 375ms/step - loss: 0.1780 - accuracy: 0.9092 - val_loss: 2.7875 - val_accuracy: 0.6892\n",
      "Epoch 197/200\n",
      "125/125 [==============================] - 46s 369ms/step - loss: 0.1776 - accuracy: 0.9088 - val_loss: 2.8009 - val_accuracy: 0.6907\n",
      "Epoch 198/200\n",
      "125/125 [==============================] - 46s 366ms/step - loss: 0.1788 - accuracy: 0.9082 - val_loss: 2.7910 - val_accuracy: 0.6895\n",
      "Epoch 199/200\n",
      "125/125 [==============================] - 46s 365ms/step - loss: 0.1775 - accuracy: 0.9082 - val_loss: 2.7892 - val_accuracy: 0.6894\n",
      "Epoch 200/200\n",
      "125/125 [==============================] - 46s 367ms/step - loss: 0.1755 - accuracy: 0.9094 - val_loss: 2.7988 - val_accuracy: 0.6887\n"
     ]
    }
   ],
   "source": [
    "z = np.zeros((NUM_SAMPLES, LATENT_DIM_DECODER)) #initial [s,c]\n",
    "r = model.fit(\n",
    "    [encoder_inputs, decoder_inputs, z, z], decoder_targets,\n",
    "    batch_size = BATCH_SIZE,\n",
    "    epochs= EPOCHS,\n",
    "    validation_split = 0.2\n",
    ")"
   ]
  },
  {
   "cell_type": "code",
   "execution_count": 31,
   "id": "1b30ac77",
   "metadata": {},
   "outputs": [
    {
     "data": {
      "image/png": "[encoded data removed]",
      "text/plain": [
       "<Figure size 432x288 with 1 Axes>"
      ]
     },
     "metadata": {
      "needs_background": "light"
     },
     "output_type": "display_data"
    }
   ],
   "source": [
    "plt.plot(r.history['loss'], label='train loss')\n",
    "plt.plot(r.history['val_loss'], label='val loss')\n",
    "plt.legend()\n",
    "plt.show()"
   ]
  },
  {
   "cell_type": "code",
   "execution_count": 32,
   "id": "c28f0e15",
   "metadata": {},
   "outputs": [
    {
     "data": {
      "image/png": "[encoded data removed]",
      "text/plain": [
       "<Figure size 432x288 with 1 Axes>"
      ]
     },
     "metadata": {
      "needs_background": "light"
     },
     "output_type": "display_data"
    }
   ],
   "source": [
    "plt.plot(r.history['accuracy'], label='accuracy')\n",
    "plt.plot(r.history[\"val_accuracy\"], label='val_accuracy')\n",
    "plt.legend()\n",
    "plt.show()"
   ]
  },
  {
   "cell_type": "markdown",
   "id": "1fbad603",
   "metadata": {},
   "source": [
    "# Encoder and Decoder Testing"
   ]
  },
  {
   "cell_type": "code",
   "execution_count": 33,
   "id": "517b407b",
   "metadata": {},
   "outputs": [],
   "source": [
    "encoder_model = Model(encoder_inputs_placeholder, encoder_outputs)"
   ]
  },
  {
   "cell_type": "code",
   "execution_count": 37,
   "id": "30901f91",
   "metadata": {},
   "outputs": [],
   "source": [
    "encoder_outputs_as_input = Input(shape=(max_len_input, LATENT_DIM * 2,))\n",
    "decoder_inputs_single = Input(shape=(1,))\n",
    "decoder_inputs_single_x = decoder_embedding(decoder_inputs_single)"
   ]
  },
  {
   "cell_type": "code",
   "execution_count": 39,
   "id": "fe8c7e5e",
   "metadata": {},
   "outputs": [],
   "source": [
    "context = one_step_attention(encoder_outputs_as_input, initial_s)"
   ]
  },
  {
   "cell_type": "code",
   "execution_count": 42,
   "id": "d3233535",
   "metadata": {},
   "outputs": [],
   "source": [
    "decoder_lstm_input = context_last_word_concat_layer([context, decoder_inputs_single_x])"
   ]
  },
  {
   "cell_type": "code",
   "execution_count": 44,
   "id": "18019a11",
   "metadata": {},
   "outputs": [],
   "source": [
    "o,s,c = decoder_lstm(decoder_lstm_input, initial_state=[initial_s, initial_c])\n",
    "decoder_outputs = decoder_dense(o) #softmax"
   ]
  },
  {
   "cell_type": "code",
   "execution_count": 45,
   "id": "e2bb46bc",
   "metadata": {},
   "outputs": [],
   "source": [
    "decoder_model = Model(\n",
    "    inputs=[\n",
    "        decoder_inputs_single,\n",
    "        encoder_outputs_as_input,\n",
    "        initial_s,\n",
    "        initial_c\n",
    "    ],\n",
    "    outputs=[decoder_outputs, s, c]\n",
    ")"
   ]
  },
  {
   "cell_type": "code",
   "execution_count": 46,
   "id": "ad1876de",
   "metadata": {},
   "outputs": [],
   "source": [
    "#real words\n",
    "idx2word_eng = {v:k for k,v in word2idx_inputs.items()}\n",
    "idx2word_trans = {v:k for k,v in word2idx_outputs.items()}"
   ]
  },
  {
   "cell_type": "code",
   "execution_count": 48,
   "id": "1f2c1429",
   "metadata": {},
   "outputs": [],
   "source": [
    "def decoder_sequence(input_seq):\n",
    "    #encode the input as state vectors\n",
    "    enc_out = encoder_model.predict(input_seq)\n",
    "    \n",
    "    #empty target for first sequence\n",
    "    target_seq = np.zeros((1,1))\n",
    "    \n",
    "    target_seq[0,0] = word2idx_outputs['<sos>']\n",
    "    \n",
    "    #if we get the end break\n",
    "    eos = word2idx_outputs['<eos>']\n",
    "    \n",
    "    s = np.zeros((1, LATENT_DIM_DECODER))\n",
    "    c = np.zeros((1, LATENT_DIM_DECODER))\n",
    "    \n",
    "    output_sentence = []\n",
    "    for _ in range(max_len_target):\n",
    "        #return output hidden state and cell state\n",
    "        o, s, c =decoder_model.predict([target_seq, enc_out, s, c])\n",
    "        \n",
    "        idx = np.argmax(o.flatten())\n",
    "        \n",
    "        if eos == idx:\n",
    "            break\n",
    "            \n",
    "        word=''\n",
    "        if idx > 0:\n",
    "            word = idx2word_trans[idx]\n",
    "            output_sentence.append(word)\n",
    "            \n",
    "        target_seq[0,0] = idx\n",
    "        \n",
    "    return ' '.join(output_sentence)\n",
    "\n",
    "    "
   ]
  },
  {
   "cell_type": "code",
   "execution_count": 50,
   "id": "62c92880",
   "metadata": {},
   "outputs": [
    {
     "name": "stdout",
     "output_type": "stream",
     "text": [
      "1/1 [==============================] - 0s 20ms/step\n",
      "1/1 [==============================] - 0s 24ms/step\n",
      "1/1 [==============================] - 0s 25ms/step\n",
      "1/1 [==============================] - 0s 23ms/step\n",
      "_\n",
      "Input:  Go slow.\n",
      "Translation: vaya despacio.\n",
      "Continue? Y/n: y\n",
      "1/1 [==============================] - 0s 20ms/step\n",
      "1/1 [==============================] - 0s 25ms/step\n",
      "1/1 [==============================] - 0s 23ms/step\n",
      "1/1 [==============================] - 0s 23ms/step\n",
      "1/1 [==============================] - 0s 23ms/step\n",
      "_\n",
      "Input:  I'm not bossy.\n",
      "Translation: no soy mandón.\n",
      "Continue? Y/n: y\n",
      "1/1 [==============================] - 0s 20ms/step\n",
      "1/1 [==============================] - 0s 24ms/step\n",
      "1/1 [==============================] - 0s 23ms/step\n",
      "1/1 [==============================] - 0s 23ms/step\n",
      "_\n",
      "Input:  What a night!\n",
      "Translation: ¡qué noche!\n",
      "Continue? Y/n: y\n",
      "1/1 [==============================] - 0s 20ms/step\n",
      "1/1 [==============================] - 0s 23ms/step\n",
      "1/1 [==============================] - 0s 23ms/step\n",
      "1/1 [==============================] - 0s 25ms/step\n",
      "_\n",
      "Input:  He scolded her.\n",
      "Translation: él la\n",
      "Continue? Y/n: y\n",
      "1/1 [==============================] - 0s 20ms/step\n",
      "1/1 [==============================] - 0s 23ms/step\n",
      "1/1 [==============================] - 0s 24ms/step\n",
      "1/1 [==============================] - 0s 23ms/step\n",
      "1/1 [==============================] - 0s 23ms/step\n",
      "1/1 [==============================] - 0s 23ms/step\n",
      "1/1 [==============================] - 0s 24ms/step\n",
      "1/1 [==============================] - 0s 23ms/step\n",
      "1/1 [==============================] - 0s 23ms/step\n",
      "1/1 [==============================] - 0s 25ms/step\n",
      "_\n",
      "Input:  I just got up.\n",
      "Translation: recién me acabo levantar. levantar.\n",
      "Continue? Y/n: y\n",
      "1/1 [==============================] - 0s 21ms/step\n",
      "1/1 [==============================] - 0s 24ms/step\n",
      "1/1 [==============================] - 0s 24ms/step\n",
      "1/1 [==============================] - 0s 23ms/step\n",
      "_\n",
      "Input:  I'll be working.\n",
      "Translation: voy a\n",
      "Continue? Y/n: y\n",
      "1/1 [==============================] - 0s 21ms/step\n",
      "1/1 [==============================] - 0s 24ms/step\n",
      "1/1 [==============================] - 0s 23ms/step\n",
      "1/1 [==============================] - 0s 24ms/step\n",
      "1/1 [==============================] - 0s 24ms/step\n",
      "1/1 [==============================] - 0s 24ms/step\n",
      "_\n",
      "Input:  Which key is it?\n",
      "Translation: ¿cómo de pequeño es?\n",
      "Continue? Y/n: y\n",
      "1/1 [==============================] - 0s 20ms/step\n",
      "1/1 [==============================] - 0s 23ms/step\n",
      "1/1 [==============================] - 0s 24ms/step\n",
      "1/1 [==============================] - 0s 24ms/step\n",
      "1/1 [==============================] - 0s 24ms/step\n",
      "1/1 [==============================] - 0s 24ms/step\n",
      "_\n",
      "Input:  Help is coming.\n",
      "Translation: la ayuda está llegando.\n",
      "Continue? Y/n: y\n",
      "1/1 [==============================] - 0s 21ms/step\n",
      "1/1 [==============================] - 0s 24ms/step\n",
      "1/1 [==============================] - 0s 24ms/step\n",
      "1/1 [==============================] - 0s 24ms/step\n",
      "1/1 [==============================] - 0s 24ms/step\n",
      "_\n",
      "Input:  What's in there?\n",
      "Translation: ¿qué hay ahí.\n",
      "Continue? Y/n: y\n",
      "1/1 [==============================] - 0s 21ms/step\n",
      "1/1 [==============================] - 0s 24ms/step\n",
      "1/1 [==============================] - 0s 24ms/step\n",
      "1/1 [==============================] - 0s 24ms/step\n",
      "1/1 [==============================] - 0s 24ms/step\n",
      "_\n",
      "Input:  Describe Tom.\n",
      "Translation: descríbalo a tomás.\n",
      "Continue? Y/n: y\n",
      "1/1 [==============================] - 0s 20ms/step\n",
      "1/1 [==============================] - 0s 24ms/step\n",
      "1/1 [==============================] - 0s 24ms/step\n",
      "1/1 [==============================] - 0s 23ms/step\n",
      "1/1 [==============================] - 0s 24ms/step\n",
      "_\n",
      "Input:  He gave in.\n",
      "Translation: él se rindió.\n",
      "Continue? Y/n: y\n",
      "1/1 [==============================] - 0s 20ms/step\n",
      "1/1 [==============================] - 0s 24ms/step\n",
      "1/1 [==============================] - 0s 24ms/step\n",
      "1/1 [==============================] - 0s 23ms/step\n",
      "1/1 [==============================] - 0s 24ms/step\n",
      "_\n",
      "Input:  Wash your hands.\n",
      "Translation: lávate tus cara.\n",
      "Continue? Y/n: y\n",
      "1/1 [==============================] - 0s 20ms/step\n",
      "1/1 [==============================] - 0s 23ms/step\n",
      "1/1 [==============================] - 0s 24ms/step\n",
      "1/1 [==============================] - 0s 25ms/step\n",
      "_\n",
      "Input:  Am I dreaming?\n",
      "Translation: ¿estoy soñando?\n",
      "Continue? Y/n: y\n",
      "1/1 [==============================] - 0s 20ms/step\n",
      "1/1 [==============================] - 0s 24ms/step\n",
      "1/1 [==============================] - 0s 24ms/step\n",
      "1/1 [==============================] - 0s 24ms/step\n",
      "1/1 [==============================] - 0s 23ms/step\n",
      "_\n",
      "Input:  I am too short.\n",
      "Translation: soy demasiado bajo.\n",
      "Continue? Y/n: y\n",
      "1/1 [==============================] - 0s 20ms/step\n",
      "1/1 [==============================] - 0s 24ms/step\n",
      "1/1 [==============================] - 0s 24ms/step\n",
      "1/1 [==============================] - 0s 24ms/step\n",
      "1/1 [==============================] - 0s 25ms/step\n",
      "_\n",
      "Input:  Don't be naive.\n",
      "Translation: no seas ingenuo.\n",
      "Continue? Y/n: y\n",
      "1/1 [==============================] - 0s 23ms/step\n",
      "1/1 [==============================] - 0s 27ms/step\n",
      "1/1 [==============================] - 0s 26ms/step\n",
      "1/1 [==============================] - 0s 27ms/step\n",
      "1/1 [==============================] - 0s 28ms/step\n",
      "_\n",
      "Input:  It's OK to cry.\n",
      "Translation: está bien llorar.\n",
      "Continue? Y/n: n\n"
     ]
    }
   ],
   "source": [
    "while True:\n",
    "    i = np.random.choice(len(input_texts))\n",
    "    input_seq = encoder_inputs[i:i+1]\n",
    "    translation = decoder_sequence(input_seq)\n",
    "    print(\"_\")\n",
    "    print(\"Input: \", input_texts[i])\n",
    "    print(\"Translation:\", translation)\n",
    "    \n",
    "    ans = input(\"Continue? Y/n: \")\n",
    "    if ans and ans.lower().startswith('n'):\n",
    "        break"
   ]
  },
  {
   "cell_type": "code",
   "execution_count": null,
   "id": "2b5b67eb",
   "metadata": {},
   "outputs": [],
   "source": []
  }
 ],
 "metadata": {
  "kernelspec": {
   "display_name": "Python 3",
   "language": "python",
   "name": "python3"
  },
  "language_info": {
   "codemirror_mode": {
    "name": "ipython",
    "version": 3
   },
   "file_extension": ".py",
   "mimetype": "text/x-python",
   "name": "python",
   "nbconvert_exporter": "python",
   "pygments_lexer": "ipython3",
   "version": "3.8.1"
  }
 },
 "nbformat": 4,
 "nbformat_minor": 5
}
